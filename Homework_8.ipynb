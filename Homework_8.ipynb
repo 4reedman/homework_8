{
 "cells": [
  {
   "cell_type": "markdown",
   "metadata": {},
   "source": [
    "One day you decide to arrange all your cats in a giant circle. Initially, none of your cats have any hats on. You walk around the circle 100 times, always starting at the same spot, with the first cat (cat # 1). Every time you stop at a cat, you either put a hat on it if it doesn’t have one on, or you take its hat off if it has one on.\n",
    "\n",
    "In The first round, you stop at every cat, placing a hat on each one.\n",
    "In The second round, you only stop at every second cat (#2, #4, #6, #8, etc.).\n",
    "In The third round, you only stop at every third cat(#3, #6, #9, #12, etc.).\n",
    "You continue this process until you’ve made 100 rounds around the cats (e.g., you only visit the 100th cat).\n",
    "\n",
    "\n",
    "Write a program that simply outputs which cats have hats at the end.\n",
    "\n",
    "Optional: Make a function that can calculate hats with any amount of rounds and cats.\n",
    "\n",
    "Here you should write an algorithm, and after that, try to make pseudo code. Only after that start to work. The code is simple here, but you might struggle with the algorithm. Therefore don`t try to write a code from the first attempt. Don't forget to calculate the complexity of your algorithm.\n",
    "\n",
    "Одного дня ви вирішили поставити всіх своїх котів у гігантське коло. Спочатку жоден з котів не має шапки. Ви обходите коло 100 разів, завжди починаючи з одного і того ж місця, з першого кота (кіт № 1). Кожного разу, коли ви зупиняєтесь біля кота, ви або одягаєте на нього шапку, якщо на ньому немає шапки, або знімаєте шапку, якщо на ньому є шапка.\n",
    "\n",
    "У першому раунді ви зупиняєтесь біля кожного кота, одягаючи на нього капелюх.\n",
    "У другому раунді ви зупиняєтесь лише біля кожного другого кота (№2, №4, №6, №8 і т.д.).\n",
    "У третьому раунді ви зупиняєтесь лише біля кожного третього кота (№3, №6, №9, №12 і т.д.).\n",
    "Ви продовжуєте цей процес до тих пір, поки не зробите 100 обходів котів (наприклад, не відвідаєте лише 100-го кота).\n",
    "\n",
    "\n",
    "Напишіть програму, яка в кінці просто виводить, які коти мають капелюхи.\n",
    "\n",
    "Необов'язково: Напишіть функцію, яка обчислює капелюхи для довільної кількості обходів і котів.\n",
    "\n",
    "Тут ви повинні написати алгоритм, а після цього спробувати зробити псевдокод. Тільки після цього приступайте до роботи. Код тут простий, але з алгоритмом можуть виникнути проблеми. Тому не намагайтеся написати код з першого разу. Не забудьте розрахувати складність вашого алгоритму.\n",
    "\n",
    "Translated with www.DeepL.com/Translator (free version)"
   ]
  },
  {
   "cell_type": "code",
   "execution_count": 16,
   "metadata": {},
   "outputs": [
    {
     "name": "stdout",
     "output_type": "stream",
     "text": [
      " Коти під номерами [1, 4, 9, 16, 25, 36, 49, 64, 81] в капелюхах\n"
     ]
    }
   ],
   "source": [
    "def crazy_cat_man(rounds: int, cats: int):\n",
    "    cats_hats = {i: True for i in range(1, cats + 1)} # оскільки умовою задано, що в перший раунд ми одягаємо всіх котів у капелюх створюємо словник із усіма коттами у капелюхах\n",
    "    for round in range(2, rounds): # починаємо з другого раунду\n",
    "        for cat, in_hat in cats_hats.items():\n",
    "            if cat % round == 0 and in_hat == True:\n",
    "                cats_hats[cat] = False\n",
    "            elif cat % round == 0 and in_hat == False:\n",
    "                cats_hats[cat] = True\n",
    "    return print(f' Коти під номерами {[i for i in cats_hats if cats_hats[i] == True]} в капелюхах')\n",
    "    \n",
    "crazy_cat_man(100, 100)          "
   ]
  }
 ],
 "metadata": {
  "kernelspec": {
   "display_name": "Python 3",
   "language": "python",
   "name": "python3"
  },
  "language_info": {
   "name": "python",
   "version": "3.10.5"
  },
  "orig_nbformat": 4
 },
 "nbformat": 4,
 "nbformat_minor": 2
}
